{
 "cells": [
  {
   "cell_type": "code",
   "execution_count": 17,
   "id": "a3a89396",
   "metadata": {},
   "outputs": [],
   "source": [
    "#note: due to software issues i was allowed to just write the code needed, not actually implement it"
   ]
  },
  {
   "cell_type": "code",
   "execution_count": null,
   "id": "69a5992c",
   "metadata": {},
   "outputs": [],
   "source": [
    "\n",
    "#1: Find first movie that has the genre \"Action\"\n",
    "action_movie = collection.find_one({\"genres\": \"Action\"})\n",
    "print(\"First Action Movie is:\", action_movie)\n",
    "\n",
    "#2: Find all movies released after year 2000 (first 5 results)\n",
    "movies_after_2000 = list(collection.find({\"year\": {\"$gt\": 2000}}).limit(5))\n",
    "print(\"Movies After 2000 are:\", movies_after_2000)\n",
    "\n",
    "#3: Find all movies where the IMDb rating is greater than 8.5 (first 5 results)\n",
    "high_rated_movies = list(collection.find({\"imdb.rating\": {\"$gt\": 8.5}}).limit(5))\n",
    "print(\"High Rated Movies are:\", high_rated_movies)\n",
    "\n",
    "#4: Find all movies where genre contains \"Action\" and \"Adventure\"\n",
    "action_adventure_movies = list(collection.find({\"genres\": {\"$all\": [\"Action\", \"Adventure\"]}}).limit(5))\n",
    "print(\"Action and Adventure Movies are:\", action_adventure_movies)\n"
   ]
  }
 ],
 "metadata": {
  "kernelspec": {
   "display_name": "Python (myenv)",
   "language": "python",
   "name": "myenv"
  },
  "language_info": {
   "codemirror_mode": {
    "name": "ipython",
    "version": 3
   },
   "file_extension": ".py",
   "mimetype": "text/x-python",
   "name": "python",
   "nbconvert_exporter": "python",
   "pygments_lexer": "ipython3",
   "version": "3.12.2"
  }
 },
 "nbformat": 4,
 "nbformat_minor": 5
}
